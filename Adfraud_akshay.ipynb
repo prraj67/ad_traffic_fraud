{
 "cells": [
  {
   "cell_type": "code",
   "execution_count": 5,
   "metadata": {},
   "outputs": [],
   "source": [
    "import numpy as np\n",
    "import pandas as pd\n",
    "import matplotlib.pyplot as plt\n",
    "import seaborn as sns\n",
    "from __future__ import division\n",
    "%matplotlib inline\n",
    "sns.set(rc={'figure.figsize':(10,5)})\n",
    "plt.rcParams['figure.figsize']=10,5"
   ]
  },
  {
   "cell_type": "code",
   "execution_count": 6,
   "metadata": {},
   "outputs": [],
   "source": [
    "train_sample_path = 'train_sample.csv'\n",
    "train_path = 'train.csv'\n",
    "test_path = 'test.csv'"
   ]
  },
  {
   "cell_type": "code",
   "execution_count": 4,
   "metadata": {},
   "outputs": [],
   "source": [
    "train_sample_df = pd.read_csv(train_sample_path,na_values=('NA','na','null','NULL','Null'), encoding='utf-8')\n",
    "train_df = pd.read_csv(train_path,na_values=('NA','na','null','NULL','Null'), encoding='utf-8')\n",
    "test_submission = pd.read_csv(test_path,na_values=('NA','na','null','NULL','Null'), encoding='utf-8')"
   ]
  },
  {
   "cell_type": "markdown",
   "metadata": {},
   "source": [
    "## Converting click time to click hour "
   ]
  },
  {
   "cell_type": "code",
   "execution_count": 130,
   "metadata": {},
   "outputs": [],
   "source": [
    "get_hour(train_sample_df,'click_time')\n",
    "get_hour(train_df,'click_time')\n",
    "get_hour(test_submission,'click_time')"
   ]
  },
  {
   "cell_type": "code",
   "execution_count": 171,
   "metadata": {},
   "outputs": [],
   "source": [
    "def null_counter(df):\n",
    "    for i in df.columns:\n",
    "        print (i+' : '+str(len(df[i]) - df[i].count()))\n",
    "\n",
    "def unique_counter(df):\n",
    "    for i in df.columns:\n",
    "        print (i+' : '+str(df[i].nunique()))\n",
    "\n",
    "def get_hour(df, col):\n",
    "    df[col] = df[col].apply(lambda x : pd.to_datetime(x))\n",
    "    df[col] = df[col].apply(lambda x : x.hour)\n",
    "    return df\n",
    "    "
   ]
  },
  {
   "cell_type": "markdown",
   "metadata": {},
   "source": [
    "## Train Sample "
   ]
  },
  {
   "cell_type": "code",
   "execution_count": 241,
   "metadata": {},
   "outputs": [
    {
     "data": {
      "text/html": [
       "<div>\n",
       "<style scoped>\n",
       "    .dataframe tbody tr th:only-of-type {\n",
       "        vertical-align: middle;\n",
       "    }\n",
       "\n",
       "    .dataframe tbody tr th {\n",
       "        vertical-align: top;\n",
       "    }\n",
       "\n",
       "    .dataframe thead th {\n",
       "        text-align: right;\n",
       "    }\n",
       "</style>\n",
       "<table border=\"1\" class=\"dataframe\">\n",
       "  <thead>\n",
       "    <tr style=\"text-align: right;\">\n",
       "      <th></th>\n",
       "      <th>ip</th>\n",
       "      <th>app</th>\n",
       "      <th>device</th>\n",
       "      <th>os</th>\n",
       "      <th>channel</th>\n",
       "      <th>click_time</th>\n",
       "      <th>attributed_time</th>\n",
       "      <th>is_attributed</th>\n",
       "    </tr>\n",
       "  </thead>\n",
       "  <tbody>\n",
       "    <tr>\n",
       "      <th>0</th>\n",
       "      <td>87540</td>\n",
       "      <td>12</td>\n",
       "      <td>1</td>\n",
       "      <td>13</td>\n",
       "      <td>497</td>\n",
       "      <td>2017-11-07 09:30:38</td>\n",
       "      <td>NaN</td>\n",
       "      <td>0</td>\n",
       "    </tr>\n",
       "    <tr>\n",
       "      <th>1</th>\n",
       "      <td>105560</td>\n",
       "      <td>25</td>\n",
       "      <td>1</td>\n",
       "      <td>17</td>\n",
       "      <td>259</td>\n",
       "      <td>2017-11-07 13:40:27</td>\n",
       "      <td>NaN</td>\n",
       "      <td>0</td>\n",
       "    </tr>\n",
       "    <tr>\n",
       "      <th>2</th>\n",
       "      <td>101424</td>\n",
       "      <td>12</td>\n",
       "      <td>1</td>\n",
       "      <td>19</td>\n",
       "      <td>212</td>\n",
       "      <td>2017-11-07 18:05:24</td>\n",
       "      <td>NaN</td>\n",
       "      <td>0</td>\n",
       "    </tr>\n",
       "    <tr>\n",
       "      <th>3</th>\n",
       "      <td>94584</td>\n",
       "      <td>13</td>\n",
       "      <td>1</td>\n",
       "      <td>13</td>\n",
       "      <td>477</td>\n",
       "      <td>2017-11-07 04:58:08</td>\n",
       "      <td>NaN</td>\n",
       "      <td>0</td>\n",
       "    </tr>\n",
       "    <tr>\n",
       "      <th>4</th>\n",
       "      <td>68413</td>\n",
       "      <td>12</td>\n",
       "      <td>1</td>\n",
       "      <td>1</td>\n",
       "      <td>178</td>\n",
       "      <td>2017-11-09 09:00:09</td>\n",
       "      <td>NaN</td>\n",
       "      <td>0</td>\n",
       "    </tr>\n",
       "  </tbody>\n",
       "</table>\n",
       "</div>"
      ],
      "text/plain": [
       "       ip  app  device  os  channel           click_time attributed_time  \\\n",
       "0   87540   12       1  13      497  2017-11-07 09:30:38             NaN   \n",
       "1  105560   25       1  17      259  2017-11-07 13:40:27             NaN   \n",
       "2  101424   12       1  19      212  2017-11-07 18:05:24             NaN   \n",
       "3   94584   13       1  13      477  2017-11-07 04:58:08             NaN   \n",
       "4   68413   12       1   1      178  2017-11-09 09:00:09             NaN   \n",
       "\n",
       "   is_attributed  \n",
       "0              0  \n",
       "1              0  \n",
       "2              0  \n",
       "3              0  \n",
       "4              0  "
      ]
     },
     "execution_count": 241,
     "metadata": {},
     "output_type": "execute_result"
    }
   ],
   "source": [
    "train_sample_df.head()"
   ]
  },
  {
   "cell_type": "code",
   "execution_count": 7,
   "metadata": {},
   "outputs": [
    {
     "name": "stdout",
     "output_type": "stream",
     "text": [
      "<class 'pandas.core.frame.DataFrame'>\n",
      "Int64Index: 100000 entries, 0 to 99999\n",
      "Data columns (total 8 columns):\n",
      "ip                 100000 non-null int64\n",
      "app                100000 non-null int64\n",
      "device             100000 non-null int64\n",
      "os                 100000 non-null int64\n",
      "channel            100000 non-null int64\n",
      "click_time         100000 non-null object\n",
      "attributed_time    227 non-null object\n",
      "is_attributed      100000 non-null int64\n",
      "dtypes: int64(6), object(2)\n",
      "memory usage: 6.9+ MB\n"
     ]
    }
   ],
   "source": [
    "train_sample_df.info()"
   ]
  },
  {
   "cell_type": "code",
   "execution_count": 8,
   "metadata": {},
   "outputs": [
    {
     "data": {
      "text/plain": [
       "0    99773\n",
       "1      227\n",
       "Name: is_attributed, dtype: int64"
      ]
     },
     "execution_count": 8,
     "metadata": {},
     "output_type": "execute_result"
    }
   ],
   "source": [
    "train_sample_df.is_attributed.value_counts()"
   ]
  },
  {
   "cell_type": "code",
   "execution_count": 40,
   "metadata": {},
   "outputs": [
    {
     "name": "stdout",
     "output_type": "stream",
     "text": [
      "Number of unique values:\n",
      "ip : 34857\n",
      "app : 161\n",
      "device : 100\n",
      "os : 130\n",
      "channel : 161\n",
      "click_time : 80350\n",
      "attributed_time : 227\n",
      "is_attributed : 2\n"
     ]
    }
   ],
   "source": [
    "print 'Number of unique values:'\n",
    "unique_counter(train_sample_df)"
   ]
  },
  {
   "cell_type": "code",
   "execution_count": 221,
   "metadata": {},
   "outputs": [
    {
     "data": {
      "text/plain": [
       "ip                 False\n",
       "app                False\n",
       "device             False\n",
       "os                 False\n",
       "channel            False\n",
       "click_time         False\n",
       "attributed_time     True\n",
       "is_attributed      False\n",
       "dtype: bool"
      ]
     },
     "execution_count": 221,
     "metadata": {},
     "output_type": "execute_result"
    }
   ],
   "source": [
    "train_sample_df.isnull().any()"
   ]
  },
  {
   "cell_type": "code",
   "execution_count": 50,
   "metadata": {},
   "outputs": [
    {
     "name": "stdout",
     "output_type": "stream",
     "text": [
      "Number of Null values:\n",
      "ip : 0\n",
      "app : 0\n",
      "device : 0\n",
      "os : 0\n",
      "channel : 0\n",
      "click_time : 0\n",
      "attributed_time : 99773\n",
      "is_attributed : 0\n"
     ]
    }
   ],
   "source": [
    "print 'Number of Null values:'\n",
    "null_counter(train_sample_df)"
   ]
  },
  {
   "cell_type": "markdown",
   "metadata": {},
   "source": [
    "## Converting click time to click hour"
   ]
  },
  {
   "cell_type": "code",
   "execution_count": 12,
   "metadata": {},
   "outputs": [
    {
     "name": "stderr",
     "output_type": "stream",
     "text": [
      "C:\\Anaconda2\\lib\\site-packages\\matplotlib\\figure.py:397: UserWarning: matplotlib is currently using a non-GUI backend, so cannot show the figure\n",
      "  \"matplotlib is currently using a non-GUI backend, \"\n"
     ]
    },
    {
     "data": {
      "image/png": "[encoded data removed]",
      "text/plain": [
       "<matplotlib.figure.Figure at 0x22e89128>"
      ]
     },
     "metadata": {},
     "output_type": "display_data"
    }
   ],
   "source": [
    "fig, ax =plt.subplots(1,2)\n",
    "sns.distplot(train_sample_df[train_sample_df['is_attributed']==1]['a_hour'], bins =24, ax = ax[0] ).set_title('is_attributed=1')\n",
    "ax = sns.distplot(train_sample_df[train_sample_df['is_attributed']==0]['a_hour'], bins =24, ax = ax[1] )\n",
    "ax.set_title('is_attributed=0')\n",
    "fig.show()"
   ]
  },
  {
   "cell_type": "code",
   "execution_count": 116,
   "metadata": {},
   "outputs": [
    {
     "data": {
      "text/plain": [
       "<matplotlib.axes._subplots.AxesSubplot at 0x12be56d68>"
      ]
     },
     "execution_count": 116,
     "metadata": {},
     "output_type": "execute_result"
    },
    {
     "data": {
      "image/png": "[encoded data removed]",
      "text/plain": [
       "<matplotlib.figure.Figure at 0x12be56cf8>"
      ]
     },
     "metadata": {},
     "output_type": "display_data"
    }
   ],
   "source": [
    "plt.figure()\n",
    "plt.title('is_attribute=0')\n",
    "sns.distplot(train_sample_df[train_sample_df['is_attributed']==0]['a_hour'], bins =24, kde = 0 )"
   ]
  },
  {
   "cell_type": "code",
   "execution_count": 118,
   "metadata": {},
   "outputs": [
    {
     "data": {
      "image/png": "[encoded data removed]",
      "text/plain": [
       "<matplotlib.figure.Figure at 0x293b26908>"
      ]
     },
     "metadata": {},
     "output_type": "display_data"
    }
   ],
   "source": [
    "fig, ax =plt.subplots(1,2)\n",
    "sns.distplot(train_sample_df[train_sample_df['is_attributed']==1]['os'], bins =131, ax = ax[0], kde = 0 ).set_title('is_attributed=1')\n",
    "ax = sns.distplot(train_sample_df[train_sample_df['is_attributed']==0]['os'], bins =131, ax = ax[1], kde = 0 )\n",
    "ax.set_title('is_attributed=0')\n",
    "fig.show()"
   ]
  },
  {
   "cell_type": "markdown",
   "metadata": {},
   "source": [
    "# Main data set"
   ]
  },
  {
   "cell_type": "code",
   "execution_count": 18,
   "metadata": {},
   "outputs": [
    {
     "data": {
      "text/html": [
       "<div>\n",
       "<table border=\"1\" class=\"dataframe\">\n",
       "  <thead>\n",
       "    <tr style=\"text-align: right;\">\n",
       "      <th></th>\n",
       "      <th>ip</th>\n",
       "      <th>app</th>\n",
       "      <th>device</th>\n",
       "      <th>os</th>\n",
       "      <th>channel</th>\n",
       "      <th>click_time</th>\n",
       "      <th>attributed_time</th>\n",
       "      <th>is_attributed</th>\n",
       "      <th>a_hour</th>\n",
       "    </tr>\n",
       "  </thead>\n",
       "  <tbody>\n",
       "    <tr>\n",
       "      <th>0</th>\n",
       "      <td>83230</td>\n",
       "      <td>3</td>\n",
       "      <td>1</td>\n",
       "      <td>13</td>\n",
       "      <td>379</td>\n",
       "      <td>2017-11-06 14:32:21</td>\n",
       "      <td>NaN</td>\n",
       "      <td>0</td>\n",
       "      <td>14</td>\n",
       "    </tr>\n",
       "    <tr>\n",
       "      <th>1</th>\n",
       "      <td>17357</td>\n",
       "      <td>3</td>\n",
       "      <td>1</td>\n",
       "      <td>19</td>\n",
       "      <td>379</td>\n",
       "      <td>2017-11-06 14:33:34</td>\n",
       "      <td>NaN</td>\n",
       "      <td>0</td>\n",
       "      <td>14</td>\n",
       "    </tr>\n",
       "    <tr>\n",
       "      <th>2</th>\n",
       "      <td>35810</td>\n",
       "      <td>3</td>\n",
       "      <td>1</td>\n",
       "      <td>13</td>\n",
       "      <td>379</td>\n",
       "      <td>2017-11-06 14:34:12</td>\n",
       "      <td>NaN</td>\n",
       "      <td>0</td>\n",
       "      <td>14</td>\n",
       "    </tr>\n",
       "    <tr>\n",
       "      <th>3</th>\n",
       "      <td>45745</td>\n",
       "      <td>14</td>\n",
       "      <td>1</td>\n",
       "      <td>13</td>\n",
       "      <td>478</td>\n",
       "      <td>2017-11-06 14:34:52</td>\n",
       "      <td>NaN</td>\n",
       "      <td>0</td>\n",
       "      <td>14</td>\n",
       "    </tr>\n",
       "    <tr>\n",
       "      <th>4</th>\n",
       "      <td>161007</td>\n",
       "      <td>3</td>\n",
       "      <td>1</td>\n",
       "      <td>13</td>\n",
       "      <td>379</td>\n",
       "      <td>2017-11-06 14:35:08</td>\n",
       "      <td>NaN</td>\n",
       "      <td>0</td>\n",
       "      <td>14</td>\n",
       "    </tr>\n",
       "  </tbody>\n",
       "</table>\n",
       "</div>"
      ],
      "text/plain": [
       "       ip  app  device  os  channel          click_time attributed_time  \\\n",
       "0   83230    3       1  13      379 2017-11-06 14:32:21             NaN   \n",
       "1   17357    3       1  19      379 2017-11-06 14:33:34             NaN   \n",
       "2   35810    3       1  13      379 2017-11-06 14:34:12             NaN   \n",
       "3   45745   14       1  13      478 2017-11-06 14:34:52             NaN   \n",
       "4  161007    3       1  13      379 2017-11-06 14:35:08             NaN   \n",
       "\n",
       "   is_attributed  a_hour  \n",
       "0              0      14  \n",
       "1              0      14  \n",
       "2              0      14  \n",
       "3              0      14  \n",
       "4              0      14  "
      ]
     },
     "execution_count": 18,
     "metadata": {},
     "output_type": "execute_result"
    }
   ],
   "source": [
    "train_df.head()"
   ]
  },
  {
   "cell_type": "code",
   "execution_count": 48,
   "metadata": {},
   "outputs": [
    {
     "name": "stdout",
     "output_type": "stream",
     "text": [
      "Number of unique values:\n",
      "ip : 277396\n",
      "app : 706\n",
      "device : 3475\n",
      "os : 800\n",
      "channel : 202\n",
      "click_time : 259620\n",
      "attributed_time : 182057\n",
      "is_attributed : 2\n"
     ]
    }
   ],
   "source": [
    "print 'Number of unique values:'\n",
    "unique_counter(train_df)"
   ]
  },
  {
   "cell_type": "code",
   "execution_count": 49,
   "metadata": {},
   "outputs": [
    {
     "name": "stdout",
     "output_type": "stream",
     "text": [
      "Number of Null values:\n",
      "ip : 0\n",
      "app : 0\n",
      "device : 0\n",
      "os : 0\n",
      "channel : 0\n",
      "click_time : 0\n",
      "attributed_time : 184447044\n",
      "is_attributed : 0\n"
     ]
    }
   ],
   "source": [
    "print 'Number of Null values:'\n",
    "null_counter(train_df)"
   ]
  },
  {
   "cell_type": "markdown",
   "metadata": {},
   "source": [
    "### Hour distribution "
   ]
  },
  {
   "cell_type": "code",
   "execution_count": 114,
   "metadata": {},
   "outputs": [
    {
     "data": {
      "image/png": "[encoded data removed]",
      "text/plain": [
       "<matplotlib.figure.Figure at 0xb3139710>"
      ]
     },
     "metadata": {},
     "output_type": "display_data"
    }
   ],
   "source": [
    "fig, ax =plt.subplots(1,2)\n",
    "sns.distplot(train_df[train_df['is_attributed']==1]['a_hour'], bins =24, ax = ax[0], kde = 0 ).set_title('is_attributed=1')\n",
    "ax = sns.distplot(train_df[train_df['is_attributed']==0]['a_hour'], bins =24, ax = ax[1], kde = 0 )\n",
    "ax.set_title('is_attributed=0')\n",
    "fig.show()"
   ]
  },
  {
   "cell_type": "markdown",
   "metadata": {},
   "source": [
    "### OS distribution "
   ]
  },
  {
   "cell_type": "code",
   "execution_count": 119,
   "metadata": {},
   "outputs": [
    {
     "data": {
      "image/png": "[encoded data removed]",
      "text/plain": [
       "<matplotlib.figure.Figure at 0x2085b99e8>"
      ]
     },
     "metadata": {},
     "output_type": "display_data"
    }
   ],
   "source": [
    "fig, ax =plt.subplots(1,2)\n",
    "sns.distplot(train_df[train_df['is_attributed']==1]['os'], bins =131, ax = ax[0], kde = 0 ).set_title('is_attributed=1')\n",
    "ax = sns.distplot(train_df[train_df['is_attributed']==0]['os'], bins =131, ax = ax[1], kde = 0 )\n",
    "ax.set_title('is_attributed=0')\n",
    "fig.show()"
   ]
  },
  {
   "cell_type": "code",
   "execution_count": 10,
   "metadata": {},
   "outputs": [],
   "source": [
    "#df_os = pd.DataFrame()\n",
    "df_os = pd.DataFrame(train_df['os'].value_counts()).reset_index()"
   ]
  },
  {
   "cell_type": "code",
   "execution_count": 11,
   "metadata": {},
   "outputs": [],
   "source": [
    "df_os['all'] = sum(df_os['os'])"
   ]
  },
  {
   "cell_type": "code",
   "execution_count": 24,
   "metadata": {},
   "outputs": [
    {
     "data": {
      "text/html": [
       "<div>\n",
       "<table border=\"1\" class=\"dataframe\">\n",
       "  <thead>\n",
       "    <tr style=\"text-align: right;\">\n",
       "      <th></th>\n",
       "      <th>index</th>\n",
       "      <th>os</th>\n",
       "      <th>all</th>\n",
       "      <th>perc</th>\n",
       "    </tr>\n",
       "  </thead>\n",
       "  <tbody>\n",
       "    <tr>\n",
       "      <th>0</th>\n",
       "      <td>19</td>\n",
       "      <td>44181914</td>\n",
       "      <td>184903890</td>\n",
       "      <td>23.894529</td>\n",
       "    </tr>\n",
       "    <tr>\n",
       "      <th>1</th>\n",
       "      <td>13</td>\n",
       "      <td>39782808</td>\n",
       "      <td>184903890</td>\n",
       "      <td>21.515398</td>\n",
       "    </tr>\n",
       "    <tr>\n",
       "      <th>2</th>\n",
       "      <td>17</td>\n",
       "      <td>9639776</td>\n",
       "      <td>184903890</td>\n",
       "      <td>5.213398</td>\n",
       "    </tr>\n",
       "    <tr>\n",
       "      <th>3</th>\n",
       "      <td>18</td>\n",
       "      <td>8974159</td>\n",
       "      <td>184903890</td>\n",
       "      <td>4.853418</td>\n",
       "    </tr>\n",
       "    <tr>\n",
       "      <th>4</th>\n",
       "      <td>22</td>\n",
       "      <td>7414405</td>\n",
       "      <td>184903890</td>\n",
       "      <td>4.009870</td>\n",
       "    </tr>\n",
       "  </tbody>\n",
       "</table>\n",
       "</div>"
      ],
      "text/plain": [
       "   index        os        all       perc\n",
       "0     19  44181914  184903890  23.894529\n",
       "1     13  39782808  184903890  21.515398\n",
       "2     17   9639776  184903890   5.213398\n",
       "3     18   8974159  184903890   4.853418\n",
       "4     22   7414405  184903890   4.009870"
      ]
     },
     "execution_count": 24,
     "metadata": {},
     "output_type": "execute_result"
    }
   ],
   "source": [
    "df_os.head()"
   ]
  },
  {
   "cell_type": "code",
   "execution_count": 23,
   "metadata": {
    "collapsed": true
   },
   "outputs": [],
   "source": [
    "df_os['perc'] = (df_os['os']/df_os['all'])*100"
   ]
  },
  {
   "cell_type": "code",
   "execution_count": 25,
   "metadata": {},
   "outputs": [
    {
     "data": {
      "text/plain": [
       "1.3000169980198981"
      ]
     },
     "execution_count": 25,
     "metadata": {},
     "output_type": "execute_result"
    }
   ],
   "source": [
    "sum(df_os[df_os['perc']<0.1]['perc'])"
   ]
  },
  {
   "cell_type": "code",
   "execution_count": 26,
   "metadata": {},
   "outputs": [
    {
     "data": {
      "text/plain": [
       "(800, 184903890)"
      ]
     },
     "execution_count": 26,
     "metadata": {},
     "output_type": "execute_result"
    }
   ],
   "source": [
    "train_df['os'].nunique(), len(train_df['os'])"
   ]
  },
  {
   "cell_type": "markdown",
   "metadata": {},
   "source": [
    "### IP"
   ]
  },
  {
   "cell_type": "code",
   "execution_count": 12,
   "metadata": {},
   "outputs": [
    {
     "data": {
      "text/plain": [
       "95.142991312786336"
      ]
     },
     "execution_count": 12,
     "metadata": {},
     "output_type": "execute_result"
    }
   ],
   "source": [
    "df_ip = pd.DataFrame(train_df['ip'].value_counts()).reset_index()\n",
    "df_ip['all'] = sum(df_ip['ip'])\n",
    "df_ip['perc'] = (df_ip['ip']/df_ip['all'])*100\n",
    "sum(df_ip[df_ip['perc']<0.1]['perc'])"
   ]
  },
  {
   "cell_type": "markdown",
   "metadata": {},
   "source": [
    "## Custom Transformations "
   ]
  },
  {
   "cell_type": "code",
   "execution_count": 85,
   "metadata": {},
   "outputs": [],
   "source": [
    "import scipy as sp\n",
    "from sklearn.preprocessing import label_binarize, OneHotEncoder, LabelEncoder, MinMaxScaler, MaxAbsScaler, StandardScaler\n",
    "from sklearn import metrics\n",
    "from sklearn.model_selection import train_test_split\n",
    "# imports for sklearn transformers\n",
    "from sklearn.metrics import accuracy_score, precision_recall_curve, confusion_matrix, roc_auc_score, roc_curve\n",
    "from sklearn.base import BaseEstimator, TransformerMixin\n",
    "\n",
    "# imports for sklearn preprocessing transformers\n",
    "from sklearn.preprocessing import *\n",
    "\n",
    "# Feature extraction packages\n",
    "from sklearn.feature_extraction import *\n",
    "from sklearn.feature_extraction.text import *\n",
    "from collections import defaultdict\n",
    "from sklearn.pipeline import Pipeline, FeatureUnion"
   ]
  },
  {
   "cell_type": "code",
   "execution_count": 163,
   "metadata": {},
   "outputs": [],
   "source": [
    "# class feature_transform(BaseEstimator, TransformerMixin):\n",
    "    \n",
    "#     def __init__(self,a,b):\n",
    "#         self.a = a\n",
    "#         self.b = b\n",
    "    \n",
    "#     def fit(self, x, y=None):\n",
    "#         thresh = x[self.a].nunique()/len(x[self.a])\n",
    "#         self.y = pd.DataFrame(x[self.a].value_counts()).reset_index()\n",
    "#         self.y.columns = [self.a, 'count']\n",
    "#         self.y['per_count'] = self.y['count']/sum(self.y['count'])\n",
    "#         self.y[self.b] = self.y.apply(lambda X : 'default' if X['per_count']<thresh else X[self.a],axis=1)\n",
    "# #        self.y = self.y.rename(columns={'index': self.a})\n",
    "#         return self\n",
    "#     def transform(self, z):\n",
    "#         self.z_temp = pd.merge(z, self.y, how = 'left', on = self.a)\n",
    "#         self.z_temp[self.a] = self.z_temp[self.b]\n",
    "#         self.z_temp = self.z_temp.drop([self.b,'count','per_count'],axis=1)\n",
    "#         z = pd.DataFrame(self.z_temp)\n",
    "#         z[self.a]=z[self.a].astype('str')\n",
    "#         return z\n",
    "\n",
    "class feature_transform(BaseEstimator, TransformerMixin):\n",
    "    \n",
    "    def __init__(self,cols):\n",
    "        self.cols = cols\n",
    "    \n",
    "    def fit(self, x, y=None):\n",
    "        self.y = pd.DataFrame()\n",
    "        for c in self.cols:\n",
    "            thresh = x[c].nunique()/len(x[c])\n",
    "            self.y = pd.concat([self.y,pd.DataFrame(x[c].value_counts()).reset_index()],axis = 1)\n",
    "            self.y = self.y.rename(columns={c:c+'_count','index':c})\n",
    "            self.y[c+'_count'].fillna(0, inplace = True)\n",
    "            self.y[c].fillna('nill', inplace = True)\n",
    "            self.y[c+'_per_count'] = self.y[c+'_count']/sum(self.y[c+'_count'])\n",
    "            self.y[c+'_2'] = self.y.apply(lambda X : 100000 if X[c+'_per_count']<thresh else X[c],axis=1)\n",
    "        return self\n",
    "    def transform(self, z):\n",
    "        for c in self.cols:\n",
    "            self.z_temp = pd.merge(z, self.y[[c,c+'_2']], how = 'left', on = c)\n",
    "            self.z_temp.fillna(100000, inplace = True)\n",
    "            self.z_temp[c] = self.z_temp[c+'_2']\n",
    "            self.z_temp = self.z_temp.drop(c+'_2',axis=1)\n",
    "            self.z_temp[c]=self.z_temp[c].astype('str')\n",
    "            z = pd.DataFrame(self.z_temp)\n",
    "            \n",
    "        return z    \n",
    "\n",
    "class DFsubsetSelector(BaseEstimator, TransformerMixin):\n",
    "    \n",
    "    def __init__(self, cols):\n",
    "        self.cols = cols\n",
    "    \n",
    "    def fit(self, X, y = None):\n",
    "        return self\n",
    "    \n",
    "    def transform(self, X):\n",
    "        return X[self.cols]\n",
    "        \n",
    "class getHour(BaseEstimator, TransformerMixin):\n",
    "    \n",
    "    def __init__(self, col):\n",
    "        self.col = col\n",
    "    \n",
    "    def fit(self, X, y = None):\n",
    "        return self\n",
    "        \n",
    "    def transform(self, X):\n",
    "        #X['click_time'] = X['click_time'].apply(lambda x : pd.to_datetime(x))\n",
    "        #X['click_time'] = X['click_time'].apply(lambda x : x.hour)\n",
    "        X[self.col] = X[self.col].apply(lambda x : pd.to_datetime(x))\n",
    "        X[self.col] = X[self.col].apply(lambda x : x.hour)\n",
    "        return X\n",
    "    \n",
    "    "
   ]
  },
  {
   "cell_type": "code",
   "execution_count": 259,
   "metadata": {},
   "outputs": [
    {
     "data": {
      "text/html": [
       "<div>\n",
       "<style scoped>\n",
       "    .dataframe tbody tr th:only-of-type {\n",
       "        vertical-align: middle;\n",
       "    }\n",
       "\n",
       "    .dataframe tbody tr th {\n",
       "        vertical-align: top;\n",
       "    }\n",
       "\n",
       "    .dataframe thead th {\n",
       "        text-align: right;\n",
       "    }\n",
       "</style>\n",
       "<table border=\"1\" class=\"dataframe\">\n",
       "  <thead>\n",
       "    <tr style=\"text-align: right;\">\n",
       "      <th></th>\n",
       "      <th>ip</th>\n",
       "      <th>app</th>\n",
       "      <th>device</th>\n",
       "      <th>os</th>\n",
       "      <th>channel</th>\n",
       "      <th>click_time</th>\n",
       "      <th>attributed_time</th>\n",
       "      <th>is_attributed</th>\n",
       "    </tr>\n",
       "  </thead>\n",
       "  <tbody>\n",
       "    <tr>\n",
       "      <th>0</th>\n",
       "      <td>87540</td>\n",
       "      <td>12</td>\n",
       "      <td>1</td>\n",
       "      <td>13</td>\n",
       "      <td>497</td>\n",
       "      <td>2017-11-07 09:30:38</td>\n",
       "      <td>NaN</td>\n",
       "      <td>0</td>\n",
       "    </tr>\n",
       "    <tr>\n",
       "      <th>1</th>\n",
       "      <td>105560</td>\n",
       "      <td>25</td>\n",
       "      <td>1</td>\n",
       "      <td>17</td>\n",
       "      <td>259</td>\n",
       "      <td>2017-11-07 13:40:27</td>\n",
       "      <td>NaN</td>\n",
       "      <td>0</td>\n",
       "    </tr>\n",
       "    <tr>\n",
       "      <th>2</th>\n",
       "      <td>101424</td>\n",
       "      <td>12</td>\n",
       "      <td>1</td>\n",
       "      <td>19</td>\n",
       "      <td>212</td>\n",
       "      <td>2017-11-07 18:05:24</td>\n",
       "      <td>NaN</td>\n",
       "      <td>0</td>\n",
       "    </tr>\n",
       "    <tr>\n",
       "      <th>3</th>\n",
       "      <td>94584</td>\n",
       "      <td>13</td>\n",
       "      <td>1</td>\n",
       "      <td>13</td>\n",
       "      <td>477</td>\n",
       "      <td>2017-11-07 04:58:08</td>\n",
       "      <td>NaN</td>\n",
       "      <td>0</td>\n",
       "    </tr>\n",
       "    <tr>\n",
       "      <th>4</th>\n",
       "      <td>68413</td>\n",
       "      <td>12</td>\n",
       "      <td>1</td>\n",
       "      <td>1</td>\n",
       "      <td>178</td>\n",
       "      <td>2017-11-09 09:00:09</td>\n",
       "      <td>NaN</td>\n",
       "      <td>0</td>\n",
       "    </tr>\n",
       "  </tbody>\n",
       "</table>\n",
       "</div>"
      ],
      "text/plain": [
       "       ip  app  device  os  channel           click_time attributed_time  \\\n",
       "0   87540   12       1  13      497  2017-11-07 09:30:38             NaN   \n",
       "1  105560   25       1  17      259  2017-11-07 13:40:27             NaN   \n",
       "2  101424   12       1  19      212  2017-11-07 18:05:24             NaN   \n",
       "3   94584   13       1  13      477  2017-11-07 04:58:08             NaN   \n",
       "4   68413   12       1   1      178  2017-11-09 09:00:09             NaN   \n",
       "\n",
       "   is_attributed  \n",
       "0              0  \n",
       "1              0  \n",
       "2              0  \n",
       "3              0  \n",
       "4              0  "
      ]
     },
     "execution_count": 259,
     "metadata": {},
     "output_type": "execute_result"
    }
   ],
   "source": [
    "train_sample_df.head()"
   ]
  },
  {
   "cell_type": "code",
   "execution_count": 55,
   "metadata": {},
   "outputs": [],
   "source": [
    "a = feature_transform(no_impute_features)\n",
    "a.fit(train_revise)\n",
    "test_check = a.transform(test_df)"
   ]
  },
  {
   "cell_type": "code",
   "execution_count": 66,
   "metadata": {},
   "outputs": [
    {
     "data": {
      "text/plain": [
       "1.0         942954\n",
       "2.0          43727\n",
       "0.0           5596\n",
       "3032.0        3741\n",
       "100000.0      2397\n",
       "3543.0        1449\n",
       "40.0            72\n",
       "6.0             64\n",
       "Name: device, dtype: int64"
      ]
     },
     "execution_count": 66,
     "metadata": {},
     "output_type": "execute_result"
    }
   ],
   "source": [
    "test_check.device.value_counts()"
   ]
  },
  {
   "cell_type": "code",
   "execution_count": 64,
   "metadata": {},
   "outputs": [
    {
     "name": "stdout",
     "output_type": "stream",
     "text": [
      "ip : 81145\n",
      "app : 276\n",
      "device : 434\n",
      "os : 204\n",
      "channel : 171\n",
      "click_time : 24\n",
      "attributed_time : 2385\n",
      "is_attributed : 2\n"
     ]
    }
   ],
   "source": [
    "unique_counter(test_df)"
   ]
  },
  {
   "cell_type": "code",
   "execution_count": 13,
   "metadata": {},
   "outputs": [
    {
     "data": {
      "text/plain": [
       "(19, 100)"
      ]
     },
     "execution_count": 13,
     "metadata": {},
     "output_type": "execute_result"
    }
   ],
   "source": [
    "train_df_2.device.nunique(), train_sample_df.device.nunique()"
   ]
  },
  {
   "cell_type": "code",
   "execution_count": 118,
   "metadata": {},
   "outputs": [
    {
     "data": {
      "text/plain": [
       "(45, 130)"
      ]
     },
     "execution_count": 118,
     "metadata": {},
     "output_type": "execute_result"
    }
   ],
   "source": [
    "device_transform.os.nunique(), train_sample_df.os.nunique()"
   ]
  },
  {
   "cell_type": "code",
   "execution_count": 13,
   "metadata": {},
   "outputs": [
    {
     "data": {
      "text/html": [
       "<div>\n",
       "<table border=\"1\" class=\"dataframe\">\n",
       "  <thead>\n",
       "    <tr style=\"text-align: right;\">\n",
       "      <th></th>\n",
       "      <th>ip</th>\n",
       "      <th>app</th>\n",
       "      <th>device</th>\n",
       "      <th>os</th>\n",
       "      <th>channel</th>\n",
       "      <th>click_time</th>\n",
       "      <th>attributed_time</th>\n",
       "      <th>is_attributed</th>\n",
       "      <th>a_hour</th>\n",
       "    </tr>\n",
       "  </thead>\n",
       "  <tbody>\n",
       "    <tr>\n",
       "      <th>0</th>\n",
       "      <td>83230</td>\n",
       "      <td>3</td>\n",
       "      <td>1</td>\n",
       "      <td>13</td>\n",
       "      <td>379</td>\n",
       "      <td>14</td>\n",
       "      <td>NaN</td>\n",
       "      <td>0</td>\n",
       "      <td>14</td>\n",
       "    </tr>\n",
       "    <tr>\n",
       "      <th>1</th>\n",
       "      <td>17357</td>\n",
       "      <td>3</td>\n",
       "      <td>1</td>\n",
       "      <td>19</td>\n",
       "      <td>379</td>\n",
       "      <td>14</td>\n",
       "      <td>NaN</td>\n",
       "      <td>0</td>\n",
       "      <td>14</td>\n",
       "    </tr>\n",
       "    <tr>\n",
       "      <th>2</th>\n",
       "      <td>35810</td>\n",
       "      <td>3</td>\n",
       "      <td>1</td>\n",
       "      <td>13</td>\n",
       "      <td>379</td>\n",
       "      <td>14</td>\n",
       "      <td>NaN</td>\n",
       "      <td>0</td>\n",
       "      <td>14</td>\n",
       "    </tr>\n",
       "    <tr>\n",
       "      <th>3</th>\n",
       "      <td>45745</td>\n",
       "      <td>14</td>\n",
       "      <td>1</td>\n",
       "      <td>13</td>\n",
       "      <td>478</td>\n",
       "      <td>14</td>\n",
       "      <td>NaN</td>\n",
       "      <td>0</td>\n",
       "      <td>14</td>\n",
       "    </tr>\n",
       "    <tr>\n",
       "      <th>4</th>\n",
       "      <td>161007</td>\n",
       "      <td>3</td>\n",
       "      <td>1</td>\n",
       "      <td>13</td>\n",
       "      <td>379</td>\n",
       "      <td>14</td>\n",
       "      <td>NaN</td>\n",
       "      <td>0</td>\n",
       "      <td>14</td>\n",
       "    </tr>\n",
       "  </tbody>\n",
       "</table>\n",
       "</div>"
      ],
      "text/plain": [
       "       ip  app  device  os  channel  click_time attributed_time  \\\n",
       "0   83230    3       1  13      379          14             NaN   \n",
       "1   17357    3       1  19      379          14             NaN   \n",
       "2   35810    3       1  13      379          14             NaN   \n",
       "3   45745   14       1  13      478          14             NaN   \n",
       "4  161007    3       1  13      379          14             NaN   \n",
       "\n",
       "   is_attributed  a_hour  \n",
       "0              0      14  \n",
       "1              0      14  \n",
       "2              0      14  \n",
       "3              0      14  \n",
       "4              0      14  "
      ]
     },
     "execution_count": 13,
     "metadata": {},
     "output_type": "execute_result"
    }
   ],
   "source": [
    "b = getHour('click_time')\n",
    "df_click_transform = b.transform(train_df)\n",
    "df_click_transform.head()"
   ]
  },
  {
   "cell_type": "code",
   "execution_count": 99,
   "metadata": {},
   "outputs": [],
   "source": [
    "train_sample_os = pd.DataFrame()\n",
    "col = ['device','os','app']\n",
    "for c in no_impute_features:\n",
    "    thresh = (train_sample_df[c].nunique()/len(train_sample_df[c]))\n",
    "#print thresh\n",
    "\n",
    "    train_sample_os = pd.concat([train_sample_os,pd.DataFrame(train_sample_df[c].value_counts()).reset_index()],axis = 1)\n",
    "    train_sample_os = train_sample_os.rename(columns={c:c+'_count','index':c})\n",
    "    train_sample_os[c+'_count'].fillna(0, inplace = True)\n",
    "    train_sample_os[c].fillna('nill', inplace = True)\n",
    "#train_sample_os.head()\n",
    "    train_sample_os[c+'_per_count'] = train_sample_os[c+'_count']/sum(train_sample_os[c+'_count'])\n",
    "    train_sample_os[c+'_2'] = train_sample_os.apply(lambda x : 'tail' if x[c+'_per_count']<thresh else x[c],axis=1)\n",
    "\n",
    "#train_sample_os['os2'].nunique()\n",
    "#sum(train_sample_os.per_count)\n",
    "#train_sample_df['os_contri'] = "
   ]
  },
  {
   "cell_type": "markdown",
   "metadata": {},
   "source": [
    "## Model"
   ]
  },
  {
   "cell_type": "markdown",
   "metadata": {},
   "source": [
    "### Pipelines"
   ]
  },
  {
   "cell_type": "code",
   "execution_count": 161,
   "metadata": {},
   "outputs": [],
   "source": [
    "features = ['app','device','os','channel','click_time']\n",
    "no_impute_features = ['app','device','os','channel']\n",
    "impute_feature = 'click_time'\n",
    "target = ['is_attributed']\n",
    "\n",
    "transform_list = Pipeline([(\"Selector\", DFsubsetSelector(features)),\n",
    "                           (\"getHour\", getHour(impute_feature)),\n",
    "                           (\"transform\", feature_transform(no_impute_features)),\n",
    "                           (\"1hotEncode\",OneHotEncoder())\n",
    "                           ])\n"
   ]
  },
  {
   "cell_type": "markdown",
   "metadata": {},
   "source": [
    "### Learner "
   ]
  },
  {
   "cell_type": "code",
   "execution_count": 87,
   "metadata": {},
   "outputs": [],
   "source": [
    "from sklearn.tree import DecisionTreeClassifier\n",
    "from sklearn.ensemble import RandomForestClassifier\n",
    "\n",
    "rf = {}\n",
    "rf = RandomForestClassifier(verbose = 10)\n",
    "#base_clf = Pipeline([('transformers',transform_list ), \n",
    "#                        ('learner', RandomForestClassifier(n_jobs = -1, verbose = 10))])\n",
    "#n_jobs = -1,random_state=0,verbose=1,n_estimators=200"
   ]
  },
  {
   "cell_type": "markdown",
   "metadata": {},
   "source": [
    "### Hyperparameter Tuning"
   ]
  },
  {
   "cell_type": "code",
   "execution_count": 12,
   "metadata": {},
   "outputs": [
    {
     "name": "stderr",
     "output_type": "stream",
     "text": [
      "/Users/akshaysharma/Anaconda/anaconda3/lib/python3.6/site-packages/sklearn/cross_validation.py:41: DeprecationWarning: This module was deprecated in version 0.18 in favor of the model_selection module into which all the refactored classes and functions are moved. Also note that the interface of the new CV iterators are different from that of this module. This module will be removed in 0.20.\n",
      "  \"This module will be removed in 0.20.\", DeprecationWarning)\n",
      "/Users/akshaysharma/Anaconda/anaconda3/lib/python3.6/site-packages/sklearn/grid_search.py:42: DeprecationWarning: This module was deprecated in version 0.18 in favor of the model_selection module into which all the refactored classes and functions are moved. This module will be removed in 0.20.\n",
      "  DeprecationWarning)\n"
     ]
    },
    {
     "ename": "NameError",
     "evalue": "name 'base_clf' is not defined",
     "output_type": "error",
     "traceback": [
      "\u001b[0;31m---------------------------------------------------------------------------\u001b[0m",
      "\u001b[0;31mNameError\u001b[0m                                 Traceback (most recent call last)",
      "\u001b[0;32m<ipython-input-12-20f31f77d700>\u001b[0m in \u001b[0;36m<module>\u001b[0;34m()\u001b[0m\n\u001b[1;32m     37\u001b[0m \u001b[0;34m\u001b[0m\u001b[0m\n\u001b[1;32m     38\u001b[0m \u001b[0mgrid_search_RF\u001b[0m \u001b[0;34m=\u001b[0m \u001b[0;34m{\u001b[0m\u001b[0;34m}\u001b[0m\u001b[0;34m\u001b[0m\u001b[0m\n\u001b[0;32m---> 39\u001b[0;31m grid_search_RF = GridSearchCV(base_clf,\n\u001b[0m\u001b[1;32m     40\u001b[0m                               \u001b[0mparam_grid\u001b[0m \u001b[0;34m=\u001b[0m \u001b[0mparam_grid\u001b[0m\u001b[0;34m,\u001b[0m\u001b[0;34m\u001b[0m\u001b[0m\n\u001b[1;32m     41\u001b[0m                               \u001b[0mcv\u001b[0m \u001b[0;34m=\u001b[0m \u001b[0;36m3\u001b[0m\u001b[0;34m,\u001b[0m\u001b[0;34m\u001b[0m\u001b[0m\n",
      "\u001b[0;31mNameError\u001b[0m: name 'base_clf' is not defined"
     ]
    }
   ],
   "source": [
    "from sklearn.grid_search import RandomizedSearchCV,GridSearchCV\n",
    "from operator import itemgetter\n",
    "from scipy.stats import randint as sp_randint\n",
    "\n",
    "def report(grid_scores, n_top=3):\n",
    "    top_scores = sorted(grid_scores, key=itemgetter(1), reverse=True)[: n_top]\n",
    "    #  print(\"Model with rank: {0}\".format(i + 1))\n",
    "    print(\"Mean validation score: {0:.3f} (std: {1:.3f})\".format(score.mean_validation_score,\n",
    "                                                                 np.std(score.cv_validation_scores)))\n",
    "    print(\"Parameters: {0}\".format(score.parameters))\n",
    "    print(\"\")\n",
    "        \n",
    "param_dist = {}\n",
    "\n",
    "param_dist[\"v1\"] = {\"learner__n_estimators\": [50, 75, 100, 200], \n",
    "                    \"learner__max_depth\": [2, 3, 4, 5],\n",
    "                    \"learner__max_features\": sp_randint(5, 20),\n",
    "                    \"learner__min_samples_split\": sp_randint(5, 20),\n",
    "                    \"learner__min_samples_leaf\": sp_randint(5, 20),\n",
    "                    \"learner__criterion\": [\"gini\", \"entropy\"]}\n",
    "\n",
    "param_grid = {}\n",
    "param_grid = { \n",
    "    \"learner__n_estimators\": [200, 500],\n",
    "    \"learner__max_features\": [3, 4],\n",
    "    \"learner__max_depth\" : [4, 5],\n",
    "    \"learner__criterion\" :['gini', 'entropy']\n",
    "}\n",
    "\n",
    "param_grid = { \n",
    "    \"n_estimators\": [200, 300],\n",
    "    \"max_features\": [3, 4],\n",
    "    \"max_depth\" : [3, 4, 5],\n",
    "    \"criterion\" :['gini', 'entropy']\n",
    "}\n",
    "#param_grid = dict(epochs=[10,20,30])\n",
    "\n",
    "grid_search_RF = {}\n",
    "grid_search_RF = GridSearchCV(base_clf,\n",
    "                              param_grid = param_grid,\n",
    "                              cv = 3,\n",
    "                              n_jobs = -1)\n",
    "\n",
    "\n",
    "n_iter_search = 5\n",
    "\n",
    "random_search_RF = {}\n",
    "    # Set up the grid search\n",
    "random_search_RF = RandomizedSearchCV(base_clf, \n",
    "                                      param_distributions=param_dist, \n",
    "                                      n_iter=n_iter_search,\n",
    "                                      cv=4,\n",
    "                                      #scoring=recall_at_fpr_bnd_scorer,\n",
    "                                      n_jobs=-1)\n",
    "\n",
    "    # Fit on  the training data\n",
    "#print \"Initiating (random) grid-search for \", random_search_RF, \"\\n\"\n",
    "#random_search_RF.fit(train_sample_df, train_Y['actual'] )\n",
    "\n"
   ]
  },
  {
   "cell_type": "markdown",
   "metadata": {},
   "source": [
    "## Train Test Split"
   ]
  },
  {
   "cell_type": "code",
   "execution_count": null,
   "metadata": {},
   "outputs": [],
   "source": [
    "train, test = train_test_split(train_df, test_size=0.2)"
   ]
  },
  {
   "cell_type": "code",
   "execution_count": 11,
   "metadata": {},
   "outputs": [
    {
     "data": {
      "text/plain": [
       "((110942334, 9), (73961556, 9))"
      ]
     },
     "execution_count": 11,
     "metadata": {},
     "output_type": "execute_result"
    }
   ],
   "source": [
    "train.shape, test.shape"
   ]
  },
  {
   "cell_type": "code",
   "execution_count": 194,
   "metadata": {},
   "outputs": [
    {
     "data": {
      "text/plain": [
       "0    0.99753\n",
       "1    0.00247\n",
       "Name: is_attributed, dtype: float64"
      ]
     },
     "execution_count": 194,
     "metadata": {},
     "output_type": "execute_result"
    }
   ],
   "source": [
    "train['is_attributed'].value_counts()/len(train)"
   ]
  },
  {
   "cell_type": "code",
   "execution_count": 32,
   "metadata": {},
   "outputs": [],
   "source": [
    "def TrainDownSample(X, train_size_pos_ratio, train_size_neg_ratio):\n",
    "#    train_size_pos_ratio = 0.4\n",
    "#    train_size_neg_ratio = 0.6\n",
    "    train_size = len(X[X['is_attributed']==1])/train_size_pos_ratio\n",
    "    train_size_neg = int(train_size*train_size_neg_ratio)\n",
    "    train_sample_neg = X[X['is_attributed']==0].sample(n=train_size_neg)\n",
    "    train_sample_pos = X[X['is_attributed']==1]\n",
    "    train_revise = pd.concat([train_sample_neg,train_sample_pos])\n",
    "    return train_revise"
   ]
  },
  {
   "cell_type": "markdown",
   "metadata": {},
   "source": [
    "## Data Transformation "
   ]
  },
  {
   "cell_type": "markdown",
   "metadata": {},
   "source": [
    "### Fit "
   ]
  },
  {
   "cell_type": "code",
   "execution_count": 172,
   "metadata": {},
   "outputs": [],
   "source": [
    "def DataTransformFit(X):\n",
    "    transform_list.fit(X)\n",
    "    "
   ]
  },
  {
   "cell_type": "markdown",
   "metadata": {},
   "source": [
    "### Transform "
   ]
  },
  {
   "cell_type": "code",
   "execution_count": 173,
   "metadata": {},
   "outputs": [],
   "source": [
    "def DataTransform(X):\n",
    "    a = transform_list.transform(X)\n",
    "    return a    \n",
    "\n",
    "def getLabels(X):\n",
    "    return X['is_attributed']"
   ]
  },
  {
   "cell_type": "markdown",
   "metadata": {},
   "source": [
    "### Model Fit "
   ]
  },
  {
   "cell_type": "code",
   "execution_count": 174,
   "metadata": {},
   "outputs": [],
   "source": [
    "def ModelFit(X,X_y,model):\n",
    "    model.fit(X,X_y)"
   ]
  },
  {
   "cell_type": "markdown",
   "metadata": {},
   "source": [
    "### Model Predict "
   ]
  },
  {
   "cell_type": "code",
   "execution_count": 195,
   "metadata": {},
   "outputs": [],
   "source": [
    "def ModelPredict(X, model):\n",
    "    return model.predict(X)\n",
    "\n",
    "def ModelPredictProba(X,model):\n",
    "    return model.predict_proba(X)"
   ]
  },
  {
   "cell_type": "markdown",
   "metadata": {},
   "source": [
    "### Class Model "
   ]
  },
  {
   "cell_type": "code",
   "execution_count": 197,
   "metadata": {},
   "outputs": [],
   "source": [
    "class Model(BaseEstimator, TransformerMixin):\n",
    "    \n",
    "    def __init__(self, modeltype):\n",
    "        self.modeltype = modeltype\n",
    "    \n",
    "    def fit(self, traindata, z = None):\n",
    "        z = pd.DataFrame()\n",
    "        z['actual'] = getLabels(traindata)\n",
    "        DataTransformFit(traindata)\n",
    "        self.temp_df = DataTransform(traindata)\n",
    "        ModelFit(self.temp_df, z['actual'], self.modeltype)\n",
    "        \n",
    "    def transform(self, y, z = None):\n",
    "        self.y_temp = DataTransform(y)\n",
    "        return ModelPredictProba(self.y_temp, self.modeltype)        \n",
    "        "
   ]
  },
  {
   "cell_type": "markdown",
   "metadata": {},
   "source": [
    "# Run "
   ]
  },
  {
   "cell_type": "code",
   "execution_count": 205,
   "metadata": {},
   "outputs": [],
   "source": [
    "def run(modelname, train, test):\n",
    "    a = Model(modelname)\n",
    "    a.fit(train)\n",
    "    pred = a.transform(train)\n",
    "    return pred"
   ]
  },
  {
   "cell_type": "markdown",
   "metadata": {},
   "source": [
    "## Evaluate "
   ]
  },
  {
   "cell_type": "markdown",
   "metadata": {},
   "source": [
    "### Cut-off "
   ]
  },
  {
   "cell_type": "code",
   "execution_count": 243,
   "metadata": {},
   "outputs": [],
   "source": [
    "def cutOff(pred,cutoff):\n",
    "    return (pred[:,1]>cutoff).astype('int')"
   ]
  },
  {
   "cell_type": "markdown",
   "metadata": {},
   "source": [
    "### Feature Importance  "
   ]
  },
  {
   "cell_type": "code",
   "execution_count": 236,
   "metadata": {},
   "outputs": [
    {
     "name": "stdout",
     "output_type": "stream",
     "text": [
      "<zip object at 0x10cd63248>\n"
     ]
    }
   ],
   "source": [
    "#final_categorical_features={}\n",
    "#catindexes=[]\n",
    "fu=transform_list\n",
    "#print (fu.named_steps['Selector'].cols)\n",
    "#indexes_map = fu.named_steps['1hotEncode'].indexes_\n",
    "\n",
    "#for cat in fu.named_steps['Selector'].cols:\n",
    "#    catindexes.extend([str(cat)+':'+str(colname) for colname in sorted(indexes_map[cat], key=indexes_map[cat].get)])\n",
    "#final_categorical_features=catindexes\n",
    "#all_features =final_categorical_features[i]\n",
    "print (zip(train_temp[features], rf.feature_importances_))"
   ]
  },
  {
   "cell_type": "code",
   "execution_count": 241,
   "metadata": {},
   "outputs": [],
   "source": [
    "def featureImportance(model, train):\n",
    "    importances = model.feature_importances_\n",
    "    std = np.std([tree.feature_importances_ for tree in rf.estimators_],\n",
    "             axis=0)\n",
    "    indices = np.argsort(importances)[::-1]\n",
    "\n",
    "    print(\"Feature ranking:\")\n",
    "\n",
    "    for f in range(train.shape[1]):\n",
    "        print(\"%d. %d (%f)\" % (f + 1, indices[f], importances[indices[f]]))"
   ]
  },
  {
   "cell_type": "code",
   "execution_count": 242,
   "metadata": {},
   "outputs": [
    {
     "name": "stdout",
     "output_type": "stream",
     "text": [
      "Feature ranking:\n",
      "1. 109 (0.057627)\n",
      "2. 88 (0.051104)\n",
      "3. 29 (0.039411)\n",
      "4. 53 (0.035104)\n",
      "5. 180 (0.027950)\n"
     ]
    }
   ],
   "source": [
    "featureImportance(rf,train_sample_df[features])"
   ]
  },
  {
   "cell_type": "markdown",
   "metadata": {},
   "source": [
    "### Important Metrics "
   ]
  },
  {
   "cell_type": "code",
   "execution_count": null,
   "metadata": {},
   "outputs": [],
   "source": [
    "1. AUC\n",
    "2. \n",
    "def \n"
   ]
  },
  {
   "cell_type": "code",
   "execution_count": 201,
   "metadata": {},
   "outputs": [
    {
     "data": {
      "text/plain": [
       "((1000,), (1000, 2))"
      ]
     },
     "execution_count": 201,
     "metadata": {},
     "output_type": "execute_result"
    }
   ],
   "source": [
    "train_temp['is_attributed'].shape, pred.shape"
   ]
  },
  {
   "cell_type": "code",
   "execution_count": 203,
   "metadata": {},
   "outputs": [],
   "source": [
    "cutoff = 0.0000001\n",
    "\n",
    "pred_prob_labels = (pred[:,1]>cutoff).astype('int')"
   ]
  },
  {
   "cell_type": "code",
   "execution_count": 204,
   "metadata": {},
   "outputs": [
    {
     "name": "stdout",
     "output_type": "stream",
     "text": [
      "0.4974974974974975\n"
     ]
    }
   ],
   "source": [
    "print (metrics.roc_auc_score(train_temp['is_attributed'],pred_prob_labels))"
   ]
  },
  {
   "cell_type": "code",
   "execution_count": 178,
   "metadata": {},
   "outputs": [
    {
     "data": {
      "text/plain": [
       "0.9508463741748313"
      ]
     },
     "execution_count": 178,
     "metadata": {},
     "output_type": "execute_result"
    }
   ],
   "source": [
    "metrics.precision_score(train_df_2_Y['actual'], pred)"
   ]
  },
  {
   "cell_type": "code",
   "execution_count": 32,
   "metadata": {},
   "outputs": [
    {
     "data": {
      "text/plain": [
       "((1370455, 8), (73961556, 8))"
      ]
     },
     "execution_count": 32,
     "metadata": {},
     "output_type": "execute_result"
    }
   ],
   "source": [
    "train_revise.shape, test.shape"
   ]
  },
  {
   "cell_type": "code",
   "execution_count": 209,
   "metadata": {},
   "outputs": [],
   "source": [
    "test_df = test.sample(n=3000000)"
   ]
  },
  {
   "cell_type": "code",
   "execution_count": 35,
   "metadata": {},
   "outputs": [
    {
     "data": {
      "text/plain": [
       "0    997604\n",
       "1      2396\n",
       "Name: is_attributed, dtype: int64"
      ]
     },
     "execution_count": 35,
     "metadata": {},
     "output_type": "execute_result"
    }
   ],
   "source": [
    "test_df.is_attributed.value_counts()"
   ]
  },
  {
   "cell_type": "code",
   "execution_count": 40,
   "metadata": {},
   "outputs": [
    {
     "data": {
      "text/plain": [
       "ip                 False\n",
       "app                False\n",
       "device             False\n",
       "os                 False\n",
       "channel            False\n",
       "click_time         False\n",
       "attributed_time     True\n",
       "is_attributed      False\n",
       "dtype: bool"
      ]
     },
     "execution_count": 40,
     "metadata": {},
     "output_type": "execute_result"
    }
   ],
   "source": [
    "test_df.isnull().any()"
   ]
  },
  {
   "cell_type": "code",
   "execution_count": 39,
   "metadata": {},
   "outputs": [],
   "source": [
    "test_df = test_df.fillna(method='ffill')"
   ]
  },
  {
   "cell_type": "code",
   "execution_count": 48,
   "metadata": {},
   "outputs": [
    {
     "data": {
      "text/plain": [
       "255"
      ]
     },
     "execution_count": 48,
     "metadata": {},
     "output_type": "execute_result"
    }
   ],
   "source": [
    "a = list(set(train_revise.app).intersection(test_df.app))\n",
    "len(a)"
   ]
  },
  {
   "cell_type": "code",
   "execution_count": 49,
   "metadata": {},
   "outputs": [
    {
     "data": {
      "text/plain": [
       "276"
      ]
     },
     "execution_count": 49,
     "metadata": {},
     "output_type": "execute_result"
    }
   ],
   "source": [
    "test_df.app.nunique()"
   ]
  },
  {
   "cell_type": "code",
   "execution_count": 210,
   "metadata": {},
   "outputs": [],
   "source": [
    "test_df_2 = transform_list.transform(test_df)"
   ]
  },
  {
   "cell_type": "code",
   "execution_count": 131,
   "metadata": {},
   "outputs": [],
   "source": [
    "test_sub_2 = transform_list.transform(test_submission)"
   ]
  },
  {
   "cell_type": "code",
   "execution_count": null,
   "metadata": {},
   "outputs": [],
   "source": [
    "test_df_2"
   ]
  },
  {
   "cell_type": "code",
   "execution_count": 211,
   "metadata": {},
   "outputs": [],
   "source": [
    "test_df_2_Y = pd.DataFrame()\n",
    "test_df_2_Y['actual'] = test_df['is_attributed']"
   ]
  },
  {
   "cell_type": "code",
   "execution_count": 180,
   "metadata": {},
   "outputs": [
    {
     "name": "stdout",
     "output_type": "stream",
     "text": [
      "0.9144572352494474\n"
     ]
    }
   ],
   "source": [
    "print (metrics.roc_auc_score(test_df_2_Y['actual'],pred))"
   ]
  },
  {
   "cell_type": "code",
   "execution_count": 119,
   "metadata": {},
   "outputs": [
    {
     "name": "stdout",
     "output_type": "stream",
     "text": [
      "Accuracy for Random Forest on CV data:  0.986215\n"
     ]
    }
   ],
   "source": [
    "print(\"Accuracy for Random Forest on CV data: \",accuracy_score(test_df_2_Y['actual'],pred))"
   ]
  },
  {
   "cell_type": "code",
   "execution_count": 93,
   "metadata": {},
   "outputs": [
    {
     "data": {
      "text/plain": [
       "array([0.984103, 0.015897])"
      ]
     },
     "execution_count": 93,
     "metadata": {},
     "output_type": "execute_result"
    }
   ],
   "source": [
    "np.bincount(pred)/len(pred)"
   ]
  },
  {
   "cell_type": "code",
   "execution_count": 121,
   "metadata": {},
   "outputs": [
    {
     "name": "stdout",
     "output_type": "stream",
     "text": [
      "             precision    recall  f1-score   support\n",
      "\n",
      "          0       1.00      0.99      0.99   1995078\n",
      "          1       0.13      0.84      0.23      4922\n",
      "\n",
      "avg / total       1.00      0.99      0.99   2000000\n",
      "\n"
     ]
    }
   ],
   "source": [
    "print (metrics.classification_report(test_df_2_Y['actual'],pred))"
   ]
  },
  {
   "cell_type": "code",
   "execution_count": 184,
   "metadata": {},
   "outputs": [
    {
     "data": {
      "image/png": "[encoded data removed]",
      "text/plain": [
       "<matplotlib.figure.Figure at 0x1a531b0dd8>"
      ]
     },
     "metadata": {},
     "output_type": "display_data"
    },
    {
     "name": "stdout",
     "output_type": "stream",
     "text": [
      "optimal_threshold= 0.25 for which AUC= 0.9185824136238699\n"
     ]
    }
   ],
   "source": [
    "auc=[]\n",
    "thres=[]\n",
    "\n",
    "for cutoff in np.arange(0,1,0.005):\n",
    "    y_test_pred=(test_pred_Y_prob[:,1]>cutoff).astype('int')\n",
    "    a=metrics.roc_auc_score(test_df_2_Y['actual'],y_test_pred)\n",
    "    auc.append(a)\n",
    "    thres.append(cutoff)\n",
    "plt.plot(thres,auc)\n",
    "plt.show()\n",
    "print ('optimal_threshold=',thres[auc.index(max(auc))], 'for which AUC=',max(auc))"
   ]
  },
  {
   "cell_type": "code",
   "execution_count": 135,
   "metadata": {},
   "outputs": [],
   "source": [
    "cutoff = 0.23\n",
    "\n",
    "pred_prob_labels = (test_pred_Y_prob[:,1]>cutoff).astype('int')"
   ]
  },
  {
   "cell_type": "code",
   "execution_count": 136,
   "metadata": {},
   "outputs": [
    {
     "data": {
      "text/html": [
       "<div>\n",
       "<style scoped>\n",
       "    .dataframe tbody tr th:only-of-type {\n",
       "        vertical-align: middle;\n",
       "    }\n",
       "\n",
       "    .dataframe tbody tr th {\n",
       "        vertical-align: top;\n",
       "    }\n",
       "\n",
       "    .dataframe thead th {\n",
       "        text-align: right;\n",
       "    }\n",
       "</style>\n",
       "<table border=\"1\" class=\"dataframe\">\n",
       "  <thead>\n",
       "    <tr style=\"text-align: right;\">\n",
       "      <th></th>\n",
       "      <th>click_id</th>\n",
       "      <th>ip</th>\n",
       "      <th>app</th>\n",
       "      <th>device</th>\n",
       "      <th>os</th>\n",
       "      <th>channel</th>\n",
       "      <th>click_time</th>\n",
       "      <th>a_hour</th>\n",
       "    </tr>\n",
       "  </thead>\n",
       "  <tbody>\n",
       "    <tr>\n",
       "      <th>0</th>\n",
       "      <td>0</td>\n",
       "      <td>5744</td>\n",
       "      <td>9</td>\n",
       "      <td>1</td>\n",
       "      <td>3</td>\n",
       "      <td>107</td>\n",
       "      <td>4</td>\n",
       "      <td>4</td>\n",
       "    </tr>\n",
       "    <tr>\n",
       "      <th>1</th>\n",
       "      <td>1</td>\n",
       "      <td>119901</td>\n",
       "      <td>9</td>\n",
       "      <td>1</td>\n",
       "      <td>3</td>\n",
       "      <td>466</td>\n",
       "      <td>4</td>\n",
       "      <td>4</td>\n",
       "    </tr>\n",
       "    <tr>\n",
       "      <th>2</th>\n",
       "      <td>2</td>\n",
       "      <td>72287</td>\n",
       "      <td>21</td>\n",
       "      <td>1</td>\n",
       "      <td>19</td>\n",
       "      <td>128</td>\n",
       "      <td>4</td>\n",
       "      <td>4</td>\n",
       "    </tr>\n",
       "    <tr>\n",
       "      <th>3</th>\n",
       "      <td>3</td>\n",
       "      <td>78477</td>\n",
       "      <td>15</td>\n",
       "      <td>1</td>\n",
       "      <td>13</td>\n",
       "      <td>111</td>\n",
       "      <td>4</td>\n",
       "      <td>4</td>\n",
       "    </tr>\n",
       "    <tr>\n",
       "      <th>4</th>\n",
       "      <td>4</td>\n",
       "      <td>123080</td>\n",
       "      <td>12</td>\n",
       "      <td>1</td>\n",
       "      <td>13</td>\n",
       "      <td>328</td>\n",
       "      <td>4</td>\n",
       "      <td>4</td>\n",
       "    </tr>\n",
       "  </tbody>\n",
       "</table>\n",
       "</div>"
      ],
      "text/plain": [
       "   click_id      ip  app  device  os  channel  click_time  a_hour\n",
       "0         0    5744    9       1   3      107           4       4\n",
       "1         1  119901    9       1   3      466           4       4\n",
       "2         2   72287   21       1  19      128           4       4\n",
       "3         3   78477   15       1  13      111           4       4\n",
       "4         4  123080   12       1  13      328           4       4"
      ]
     },
     "execution_count": 136,
     "metadata": {},
     "output_type": "execute_result"
    }
   ],
   "source": [
    "test_submission.head()"
   ]
  },
  {
   "cell_type": "code",
   "execution_count": 138,
   "metadata": {},
   "outputs": [],
   "source": [
    "test_submission['is_attributed'] = pred_prob_labels"
   ]
  },
  {
   "cell_type": "code",
   "execution_count": 168,
   "metadata": {},
   "outputs": [
    {
     "data": {
      "text/plain": [
       "0    0.957461\n",
       "1    0.042539\n",
       "Name: is_attributed, dtype: float64"
      ]
     },
     "execution_count": 168,
     "metadata": {},
     "output_type": "execute_result"
    }
   ],
   "source": [
    "test_submission.is_attributed.value_counts()/len(test_submission)"
   ]
  },
  {
   "cell_type": "code",
   "execution_count": 141,
   "metadata": {},
   "outputs": [],
   "source": [
    "test_submission_final = test_submission[['click_id','is_attributed']]"
   ]
  },
  {
   "cell_type": "code",
   "execution_count": 142,
   "metadata": {},
   "outputs": [],
   "source": [
    "test_submission_final.to_csv('submission.csv', index=False)"
   ]
  },
  {
   "cell_type": "code",
   "execution_count": 127,
   "metadata": {},
   "outputs": [
    {
     "name": "stdout",
     "output_type": "stream",
     "text": [
      "0.9187207833064738\n"
     ]
    }
   ],
   "source": [
    "print (metrics.roc_auc_score(test_df_2_Y['actual'],pred_prob_labels))"
   ]
  },
  {
   "cell_type": "code",
   "execution_count": null,
   "metadata": {},
   "outputs": [],
   "source": [
    "print (\"Initiating (Grid) grid-search for \", grid_search_RF, grid_search_RF.fit(train_data, train_Y['actual'] ))\n",
    "\n",
    "    # Generate a report\n",
    "#print \"REPORT ON RANDOM SEARCH CV FOR RANDOM FOREST MODEL WITH \", \":\\n\"\n",
    "#report(random_search_RF.grid_scores_)\n",
    "\n",
    "#print \"REPORT ON Grid SEARCH CV FOR RANDOM FOREST MODEL WITH \", \":\\n\"\n",
    "#report(grid_search_RF.grid_scores_)"
   ]
  },
  {
   "cell_type": "code",
   "execution_count": null,
   "metadata": {},
   "outputs": [],
   "source": [
    "train_pred_Y = grid_search_RF.predict(train_data)"
   ]
  },
  {
   "cell_type": "code",
   "execution_count": null,
   "metadata": {},
   "outputs": [],
   "source": [
    "train_pred_Y_prob = grid_search_RF.predict_proba(train_data)"
   ]
  },
  {
   "cell_type": "code",
   "execution_count": 123,
   "metadata": {},
   "outputs": [
    {
     "data": {
      "text/plain": [
       "1.0"
      ]
     },
     "execution_count": 123,
     "metadata": {},
     "output_type": "execute_result"
    }
   ],
   "source": [
    "max(test_pred_Y_prob[:,1])"
   ]
  },
  {
   "cell_type": "code",
   "execution_count": null,
   "metadata": {},
   "outputs": [],
   "source": [
    "grid_search_RF.best_params_"
   ]
  },
  {
   "cell_type": "code",
   "execution_count": 208,
   "metadata": {},
   "outputs": [],
   "source": [
    "import xgboost as xgb"
   ]
  },
  {
   "cell_type": "code",
   "execution_count": 209,
   "metadata": {},
   "outputs": [],
   "source": [
    "xgb_clf = xgb.XGBClassifier(learning_rate =0.1,\n",
    " n_estimators=1000,\n",
    " max_depth=5,\n",
    " min_child_weight=1,\n",
    " gamma=0,\n",
    " subsample=0.8,\n",
    " colsample_bytree=0.8,\n",
    " objective= 'binary:logistic',\n",
    " nthread=4,\n",
    " scale_pos_weight=1,\n",
    " seed=27)"
   ]
  },
  {
   "cell_type": "code",
   "execution_count": null,
   "metadata": {},
   "outputs": [],
   "source": [
    "xgb_clf.fe"
   ]
  },
  {
   "cell_type": "code",
   "execution_count": 212,
   "metadata": {},
   "outputs": [
    {
     "data": {
      "text/plain": [
       "XGBClassifier(base_score=0.5, booster='gbtree', colsample_bylevel=1,\n",
       "       colsample_bytree=0.8, gamma=0, learning_rate=0.1, max_delta_step=0,\n",
       "       max_depth=5, min_child_weight=1, missing=None, n_estimators=1000,\n",
       "       n_jobs=1, nthread=4, objective='binary:logistic', random_state=0,\n",
       "       reg_alpha=0, reg_lambda=1, scale_pos_weight=1, seed=27, silent=True,\n",
       "       subsample=0.8)"
      ]
     },
     "execution_count": 212,
     "metadata": {},
     "output_type": "execute_result"
    }
   ],
   "source": [
    "xgb_clf.fit(train_df_2, train_df_2_Y['actual'])"
   ]
  },
  {
   "cell_type": "code",
   "execution_count": 186,
   "metadata": {},
   "outputs": [
    {
     "name": "stderr",
     "output_type": "stream",
     "text": [
      "/Users/akshaysharma/Anaconda/anaconda3/lib/python3.6/site-packages/sklearn/preprocessing/label.py:151: DeprecationWarning: The truth value of an empty array is ambiguous. Returning False, but in future this will result in an error. Use `array.size > 0` to check that an array is not empty.\n",
      "  if diff:\n"
     ]
    }
   ],
   "source": [
    "pred=xgb_clf.predict(test_df_2)"
   ]
  },
  {
   "cell_type": "code",
   "execution_count": 187,
   "metadata": {},
   "outputs": [
    {
     "name": "stdout",
     "output_type": "stream",
     "text": [
      "0.914989706775241\n"
     ]
    }
   ],
   "source": [
    "print (metrics.roc_auc_score(test_df_2_Y['actual'],pred))"
   ]
  },
  {
   "cell_type": "code",
   "execution_count": 188,
   "metadata": {},
   "outputs": [
    {
     "name": "stdout",
     "output_type": "stream",
     "text": [
      "             precision    recall  f1-score   support\n",
      "\n",
      "          0       1.00      0.99      0.99   1995078\n",
      "          1       0.15      0.84      0.26      4922\n",
      "\n",
      "avg / total       1.00      0.99      0.99   2000000\n",
      "\n"
     ]
    }
   ],
   "source": [
    "print (metrics.classification_report(test_df_2_Y['actual'],pred))"
   ]
  },
  {
   "cell_type": "code",
   "execution_count": 158,
   "metadata": {},
   "outputs": [],
   "source": [
    "test_pred_Y_prob = xgb_clf.predict_proba(test_sub_2)"
   ]
  },
  {
   "cell_type": "code",
   "execution_count": 164,
   "metadata": {},
   "outputs": [],
   "source": [
    "cutoff = 0.2\n",
    "\n",
    "pred_prob_labels = (test_pred_Y_prob[:,1]>cutoff).astype('int')"
   ]
  },
  {
   "cell_type": "code",
   "execution_count": 213,
   "metadata": {},
   "outputs": [],
   "source": [
    "train_pred_Y_prob=xgb_clf.predict_proba(train_df_2)"
   ]
  },
  {
   "cell_type": "code",
   "execution_count": 214,
   "metadata": {},
   "outputs": [],
   "source": [
    "test_pred_Y_prob=xgb_clf.predict_proba(test_df_2)"
   ]
  },
  {
   "cell_type": "code",
   "execution_count": 165,
   "metadata": {},
   "outputs": [],
   "source": [
    "test_submission['is_attributed'] = pred_prob_labels"
   ]
  },
  {
   "cell_type": "code",
   "execution_count": 166,
   "metadata": {},
   "outputs": [],
   "source": [
    "test_submission_final = test_submission[['click_id','is_attributed']]"
   ]
  },
  {
   "cell_type": "code",
   "execution_count": 167,
   "metadata": {},
   "outputs": [],
   "source": [
    "test_submission_final.to_csv('submission_2.csv', index=False)"
   ]
  },
  {
   "cell_type": "code",
   "execution_count": 215,
   "metadata": {},
   "outputs": [
    {
     "data": {
      "image/png": "[encoded data removed]",
      "text/plain": [
       "<matplotlib.figure.Figure at 0x1a531b0320>"
      ]
     },
     "metadata": {},
     "output_type": "display_data"
    },
    {
     "name": "stdout",
     "output_type": "stream",
     "text": [
      "optimal_threshold= 0.4 for which AUC= 0.9196358961255522\n"
     ]
    }
   ],
   "source": [
    "auc=[]\n",
    "thres=[]\n",
    "\n",
    "for cutoff in np.arange(0,1,0.005):\n",
    "    y_test_pred=(test_pred_Y_prob[:,1]>cutoff).astype('int')\n",
    "    a=metrics.roc_auc_score(test_df_2_Y['actual'],y_test_pred)\n",
    "    auc.append(a)\n",
    "    thres.append(cutoff)\n",
    "plt.plot(thres,auc)\n",
    "plt.show()\n",
    "print ('optimal_threshold=',thres[auc.index(max(auc))], 'for which AUC=',max(auc))"
   ]
  },
  {
   "cell_type": "code",
   "execution_count": 216,
   "metadata": {},
   "outputs": [],
   "source": [
    "cutoff = 0.4\n",
    "\n",
    "pred_prob_labels = (test_pred_Y_prob[:,1]>cutoff).astype('int')"
   ]
  },
  {
   "cell_type": "code",
   "execution_count": 217,
   "metadata": {},
   "outputs": [
    {
     "name": "stdout",
     "output_type": "stream",
     "text": [
      "             precision    recall  f1-score   support\n",
      "\n",
      "          0       1.00      0.97      0.98   2992734\n",
      "          1       0.06      0.87      0.11      7266\n",
      "\n",
      "avg / total       1.00      0.97      0.98   3000000\n",
      "\n"
     ]
    }
   ],
   "source": [
    "print (metrics.classification_report(test_df_2_Y['actual'],pred_prob_labels))"
   ]
  }
 ],
 "metadata": {
  "kernelspec": {
   "display_name": "Python 3",
   "language": "python",
   "name": "python3"
  },
  "language_info": {
   "codemirror_mode": {
    "name": "ipython",
    "version": 3
   },
   "file_extension": ".py",
   "mimetype": "text/x-python",
   "name": "python",
   "nbconvert_exporter": "python",
   "pygments_lexer": "ipython3",
   "version": "3.6.4"
  }
 },
 "nbformat": 4,
 "nbformat_minor": 1
}
